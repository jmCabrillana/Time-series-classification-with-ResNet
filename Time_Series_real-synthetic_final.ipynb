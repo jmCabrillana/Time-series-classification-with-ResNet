{
 "cells": [
  {
   "cell_type": "code",
   "execution_count": 44,
   "metadata": {},
   "outputs": [
    {
     "name": "stdout",
     "output_type": "stream",
     "text": [
      "Requirement already satisfied: pandas in /usr/local/lib/python3.6/dist-packages (1.0.1)\n",
      "Requirement already satisfied: pytz>=2017.2 in /usr/local/lib/python3.6/dist-packages (from pandas) (2019.3)\n",
      "Requirement already satisfied: python-dateutil>=2.6.1 in /usr/local/lib/python3.6/dist-packages (from pandas) (2.8.0)\n",
      "Requirement already satisfied: numpy>=1.13.3 in /usr/local/lib/python3.6/dist-packages (from pandas) (1.17.2)\n",
      "Requirement already satisfied: six>=1.5 in /usr/lib/python3/dist-packages (from python-dateutil>=2.6.1->pandas) (1.11.0)\n",
      "\u001b[33mWARNING: You are using pip version 19.3.1; however, version 20.0.2 is available.\n",
      "You should consider upgrading via the 'pip install --upgrade pip' command.\u001b[0m\n"
     ]
    }
   ],
   "source": [
    "import tensorflow.keras as keras\n",
    "import tensorflow as tf\n",
    "\n",
    "import numpy as np\n",
    "import time\n",
    "import matplotlib.pyplot as plt\n",
    "!pip install pandas\n",
    "import pandas as pd\n",
    "import pickle"
   ]
  },
  {
   "cell_type": "code",
   "execution_count": 45,
   "metadata": {},
   "outputs": [],
   "source": [
    "train = pd.read_csv(\"TrainMyriad.csv\")"
   ]
  },
  {
   "cell_type": "code",
   "execution_count": 46,
   "metadata": {},
   "outputs": [
    {
     "data": {
      "text/html": [
       "<div>\n",
       "<style scoped>\n",
       "    .dataframe tbody tr th:only-of-type {\n",
       "        vertical-align: middle;\n",
       "    }\n",
       "\n",
       "    .dataframe tbody tr th {\n",
       "        vertical-align: top;\n",
       "    }\n",
       "\n",
       "    .dataframe thead th {\n",
       "        text-align: right;\n",
       "    }\n",
       "</style>\n",
       "<table border=\"1\" class=\"dataframe\">\n",
       "  <thead>\n",
       "    <tr style=\"text-align: right;\">\n",
       "      <th></th>\n",
       "      <th>0</th>\n",
       "      <th>1</th>\n",
       "      <th>2</th>\n",
       "      <th>3</th>\n",
       "      <th>4</th>\n",
       "      <th>5</th>\n",
       "      <th>6</th>\n",
       "      <th>7</th>\n",
       "      <th>8</th>\n",
       "      <th>9</th>\n",
       "      <th>...</th>\n",
       "      <th>244</th>\n",
       "      <th>245</th>\n",
       "      <th>246</th>\n",
       "      <th>247</th>\n",
       "      <th>248</th>\n",
       "      <th>249</th>\n",
       "      <th>250</th>\n",
       "      <th>251</th>\n",
       "      <th>252</th>\n",
       "      <th>Class</th>\n",
       "    </tr>\n",
       "  </thead>\n",
       "  <tbody>\n",
       "    <tr>\n",
       "      <th>9995</th>\n",
       "      <td>0.002683</td>\n",
       "      <td>-0.028763</td>\n",
       "      <td>-0.003444</td>\n",
       "      <td>-0.023497</td>\n",
       "      <td>1.110000e-14</td>\n",
       "      <td>-1.790000e-14</td>\n",
       "      <td>3.467799e-02</td>\n",
       "      <td>1.641587e-02</td>\n",
       "      <td>0.034320</td>\n",
       "      <td>-1.951854e-03</td>\n",
       "      <td>...</td>\n",
       "      <td>1.202405e-02</td>\n",
       "      <td>-0.007426</td>\n",
       "      <td>-1.640000e-14</td>\n",
       "      <td>9.770000e-15</td>\n",
       "      <td>-0.021945</td>\n",
       "      <td>-0.012749</td>\n",
       "      <td>5.330000e-15</td>\n",
       "      <td>0.001033</td>\n",
       "      <td>0.005676</td>\n",
       "      <td>1</td>\n",
       "    </tr>\n",
       "    <tr>\n",
       "      <th>9996</th>\n",
       "      <td>0.000111</td>\n",
       "      <td>0.001554</td>\n",
       "      <td>0.000000</td>\n",
       "      <td>-0.012970</td>\n",
       "      <td>5.278527e-03</td>\n",
       "      <td>3.798458e-03</td>\n",
       "      <td>-8.903730e-04</td>\n",
       "      <td>6.572352e-03</td>\n",
       "      <td>-0.003541</td>\n",
       "      <td>1.632608e-02</td>\n",
       "      <td>...</td>\n",
       "      <td>8.880000e-16</td>\n",
       "      <td>0.008390</td>\n",
       "      <td>-7.537197e-03</td>\n",
       "      <td>-6.115001e-03</td>\n",
       "      <td>0.014687</td>\n",
       "      <td>-0.008802</td>\n",
       "      <td>4.045387e-03</td>\n",
       "      <td>0.004815</td>\n",
       "      <td>-0.004499</td>\n",
       "      <td>1</td>\n",
       "    </tr>\n",
       "    <tr>\n",
       "      <th>9997</th>\n",
       "      <td>0.002763</td>\n",
       "      <td>-0.011523</td>\n",
       "      <td>-0.030917</td>\n",
       "      <td>0.013860</td>\n",
       "      <td>2.166624e-02</td>\n",
       "      <td>5.049230e-03</td>\n",
       "      <td>3.516704e-03</td>\n",
       "      <td>-6.660000e-16</td>\n",
       "      <td>-0.000250</td>\n",
       "      <td>4.506760e-03</td>\n",
       "      <td>...</td>\n",
       "      <td>-1.876759e-03</td>\n",
       "      <td>0.006894</td>\n",
       "      <td>-8.880000e-16</td>\n",
       "      <td>5.291005e-03</td>\n",
       "      <td>-0.006502</td>\n",
       "      <td>-0.016516</td>\n",
       "      <td>-2.408112e-02</td>\n",
       "      <td>0.032792</td>\n",
       "      <td>-0.001886</td>\n",
       "      <td>1</td>\n",
       "    </tr>\n",
       "    <tr>\n",
       "      <th>9998</th>\n",
       "      <td>0.000162</td>\n",
       "      <td>-0.002269</td>\n",
       "      <td>0.003087</td>\n",
       "      <td>0.001782</td>\n",
       "      <td>9.054160e-03</td>\n",
       "      <td>-3.204610e-04</td>\n",
       "      <td>-2.780000e-15</td>\n",
       "      <td>-3.526210e-03</td>\n",
       "      <td>0.007238</td>\n",
       "      <td>2.235710e-03</td>\n",
       "      <td>...</td>\n",
       "      <td>-7.865760e-04</td>\n",
       "      <td>-0.002493</td>\n",
       "      <td>-3.288180e-03</td>\n",
       "      <td>1.530750e-02</td>\n",
       "      <td>-0.004029</td>\n",
       "      <td>-0.006655</td>\n",
       "      <td>-1.011560e-02</td>\n",
       "      <td>-0.002920</td>\n",
       "      <td>0.002130</td>\n",
       "      <td>0</td>\n",
       "    </tr>\n",
       "    <tr>\n",
       "      <th>9999</th>\n",
       "      <td>-0.009050</td>\n",
       "      <td>0.005620</td>\n",
       "      <td>0.008244</td>\n",
       "      <td>0.001247</td>\n",
       "      <td>-1.605536e-02</td>\n",
       "      <td>-1.266001e-03</td>\n",
       "      <td>7.605634e-03</td>\n",
       "      <td>-2.795639e-03</td>\n",
       "      <td>-0.003084</td>\n",
       "      <td>1.550000e-15</td>\n",
       "      <td>...</td>\n",
       "      <td>5.219207e-03</td>\n",
       "      <td>-0.023076</td>\n",
       "      <td>2.007795e-03</td>\n",
       "      <td>-3.653937e-03</td>\n",
       "      <td>0.006388</td>\n",
       "      <td>-0.014576</td>\n",
       "      <td>-1.860909e-02</td>\n",
       "      <td>-0.009116</td>\n",
       "      <td>-0.006869</td>\n",
       "      <td>1</td>\n",
       "    </tr>\n",
       "  </tbody>\n",
       "</table>\n",
       "<p>5 rows × 254 columns</p>\n",
       "</div>"
      ],
      "text/plain": [
       "             0         1         2         3             4             5  \\\n",
       "9995  0.002683 -0.028763 -0.003444 -0.023497  1.110000e-14 -1.790000e-14   \n",
       "9996  0.000111  0.001554  0.000000 -0.012970  5.278527e-03  3.798458e-03   \n",
       "9997  0.002763 -0.011523 -0.030917  0.013860  2.166624e-02  5.049230e-03   \n",
       "9998  0.000162 -0.002269  0.003087  0.001782  9.054160e-03 -3.204610e-04   \n",
       "9999 -0.009050  0.005620  0.008244  0.001247 -1.605536e-02 -1.266001e-03   \n",
       "\n",
       "                 6             7         8             9  ...           244  \\\n",
       "9995  3.467799e-02  1.641587e-02  0.034320 -1.951854e-03  ...  1.202405e-02   \n",
       "9996 -8.903730e-04  6.572352e-03 -0.003541  1.632608e-02  ...  8.880000e-16   \n",
       "9997  3.516704e-03 -6.660000e-16 -0.000250  4.506760e-03  ... -1.876759e-03   \n",
       "9998 -2.780000e-15 -3.526210e-03  0.007238  2.235710e-03  ... -7.865760e-04   \n",
       "9999  7.605634e-03 -2.795639e-03 -0.003084  1.550000e-15  ...  5.219207e-03   \n",
       "\n",
       "           245           246           247       248       249           250  \\\n",
       "9995 -0.007426 -1.640000e-14  9.770000e-15 -0.021945 -0.012749  5.330000e-15   \n",
       "9996  0.008390 -7.537197e-03 -6.115001e-03  0.014687 -0.008802  4.045387e-03   \n",
       "9997  0.006894 -8.880000e-16  5.291005e-03 -0.006502 -0.016516 -2.408112e-02   \n",
       "9998 -0.002493 -3.288180e-03  1.530750e-02 -0.004029 -0.006655 -1.011560e-02   \n",
       "9999 -0.023076  2.007795e-03 -3.653937e-03  0.006388 -0.014576 -1.860909e-02   \n",
       "\n",
       "           251       252  Class  \n",
       "9995  0.001033  0.005676      1  \n",
       "9996  0.004815 -0.004499      1  \n",
       "9997  0.032792 -0.001886      1  \n",
       "9998 -0.002920  0.002130      0  \n",
       "9999 -0.009116 -0.006869      1  \n",
       "\n",
       "[5 rows x 254 columns]"
      ]
     },
     "execution_count": 46,
     "metadata": {},
     "output_type": "execute_result"
    }
   ],
   "source": [
    "train.tail()"
   ]
  },
  {
   "cell_type": "code",
   "execution_count": null,
   "metadata": {},
   "outputs": [],
   "source": [
    "Class = train.pop('Class')"
   ]
  },
  {
   "cell_type": "code",
   "execution_count": 6,
   "metadata": {},
   "outputs": [
    {
     "data": {
      "text/plain": [
       "0.4995"
      ]
     },
     "execution_count": 6,
     "metadata": {},
     "output_type": "execute_result"
    }
   ],
   "source": [
    "np.sum(Class) / len(Class)"
   ]
  },
  {
   "cell_type": "markdown",
   "metadata": {},
   "source": [
    "The two classes of the dataset are well balanced"
   ]
  },
  {
   "cell_type": "code",
   "execution_count": 28,
   "metadata": {},
   "outputs": [
    {
     "data": {
      "text/plain": [
       "0    1\n",
       "1    0\n",
       "Name: Class, dtype: int64"
      ]
     },
     "execution_count": 28,
     "metadata": {},
     "output_type": "execute_result"
    }
   ],
   "source": [
    "Class.iloc[0:2]"
   ]
  },
  {
   "cell_type": "code",
   "execution_count": 29,
   "metadata": {},
   "outputs": [
    {
     "data": {
      "text/plain": [
       "Text(0.5, 1.0, 'Real Serie')"
      ]
     },
     "execution_count": 29,
     "metadata": {},
     "output_type": "execute_result"
    },
    {
     "data": {
      "image/png": "[encoded data removed]",
      "text/plain": [
       "<Figure size 432x288 with 1 Axes>"
      ]
     },
     "metadata": {
      "needs_background": "light"
     },
     "output_type": "display_data"
    }
   ],
   "source": [
    "plt.plot(train.values[0])\n",
    "plt.title('Real Serie')"
   ]
  },
  {
   "cell_type": "code",
   "execution_count": 30,
   "metadata": {},
   "outputs": [
    {
     "data": {
      "text/plain": [
       "Text(0.5, 1.0, 'synthetic Serie')"
      ]
     },
     "execution_count": 30,
     "metadata": {},
     "output_type": "execute_result"
    },
    {
     "data": {
      "image/png": "[encoded data removed]",
      "text/plain": [
       "<Figure size 432x288 with 1 Axes>"
      ]
     },
     "metadata": {
      "needs_background": "light"
     },
     "output_type": "display_data"
    }
   ],
   "source": [
    "plt.plot(train.values[1])\n",
    "plt.title('synthetic Serie')"
   ]
  },
  {
   "cell_type": "markdown",
   "metadata": {},
   "source": [
    "  The data file is compound of 10 000 time series of 253 points. So there is enough data to use a deep learning architecture.\n",
    "  \n",
    "  The first step is to choose the model. This is a classification problem on time series. I've already had this problem in class with temperatures series. To solve the problem we had to implement a RNN. The outputs of the RNN were averaged and the dimension was reduced to the number of classes using a dense layer. Then the probabilities were given with a softmax layer and the model is fitted using the cross-entropy loss.\n",
    "  \n",
    "  This solution is not the best, the goal was to work with RNN to do classification and then sequence generation. Accocrding to the article \"Deep learning for time series classification: a review\" the best method is to use a ResNet model. This is the best deep learning model in most of the cases and it reaches almost same results as the state-of-the-art heavier algorithm HIVE-COTE, which uses an ensemble of classifiers. "
   ]
  },
  {
   "cell_type": "markdown",
   "metadata": {},
   "source": [
    "## Model\n",
    "\n",
    "   ResNet is a convolutional neural networks improved with residual connexion to avoid vanishing gradient and batch normalization to prevent overfitting. It is one of the best deep learning model for images and it is easily adaptable to time series which are just one-dimensional images. "
   ]
  },
  {
   "cell_type": "code",
   "execution_count": 48,
   "metadata": {},
   "outputs": [],
   "source": [
    "#Defining the Convolutional residual block\n",
    "\n",
    "class ResnetBlock(tf.keras.Model):\n",
    "  def __init__(self, nb_filters):\n",
    "    super(ResnetBlock, self).__init__(name='')\n",
    "\n",
    "    self.conv_a = tf.keras.layers.Conv1D(nb_filters, 8, padding='same')\n",
    "    self.bn_a = tf.keras.layers.BatchNormalization()\n",
    "\n",
    "    self.conv_b = tf.keras.layers.Conv1D(nb_filters, 5, padding='same')\n",
    "    self.bn_b = tf.keras.layers.BatchNormalization()\n",
    "\n",
    "    self.conv_c = tf.keras.layers.Conv1D(nb_filters, 3, padding='same')\n",
    "    self.bn_c = tf.keras.layers.BatchNormalization()\n",
    "    \n",
    "    #\"identity convolution\" so the input has the same dimension even if the number of channels is different initially\n",
    "    self.conv_input = tf.keras.layers.Conv1D(nb_filters, 1, padding='same')\n",
    "    self.bn_input = tf.keras.layers.BatchNormalization()\n",
    "\n",
    "  def call(self, input_tensor, training=False):\n",
    "    x = self.conv_a(input_tensor)\n",
    "    x = self.bn_a(x, training=training)\n",
    "    x = tf.nn.relu(x)\n",
    "\n",
    "    x = self.conv_b(x)\n",
    "    x = self.bn_b(x, training=training)\n",
    "    x = tf.nn.relu(x)\n",
    "\n",
    "    x = self.conv_c(x)\n",
    "    x = self.bn_c(x, training=training)\n",
    "\n",
    "    x += self.bn_input(self.conv_input(input_tensor))\n",
    "    return tf.nn.relu(x)\n"
   ]
  },
  {
   "cell_type": "code",
   "execution_count": 49,
   "metadata": {},
   "outputs": [],
   "source": [
    "def build_model(input_shape, nb_classes, nb_filters):\n",
    "\n",
    "    input_layer = keras.layers.Input(input_shape)\n",
    "\n",
    "    # BLOCK 1\n",
    "\n",
    "    block1 = ResnetBlock(nb_filters)\n",
    "    output_block_1 = block1(input_layer)\n",
    "\n",
    "    # BLOCK 2\n",
    "\n",
    "    block2 = ResnetBlock(2 * nb_filters)\n",
    "    output_block_2 = block2(output_block_1)\n",
    "\n",
    "    # BLOCK 3\n",
    "\n",
    "    block3 = ResnetBlock(2 * nb_filters)\n",
    "    output_block_3 = block3(output_block_2)\n",
    "\n",
    "\n",
    "    # FINAL\n",
    "\n",
    "    gap_layer = keras.layers.GlobalAveragePooling1D()(output_block_3)\n",
    "    output_layer = keras.layers.Dense(nb_classes, activation='softmax')(gap_layer)\n",
    "    model = keras.models.Model(inputs=input_layer, outputs=output_layer)\n",
    "    \n",
    "    model.compile(loss='categorical_crossentropy', optimizer=keras.optimizers.Adam(),\n",
    "                  metrics=['accuracy'])\n",
    "\n",
    "    return model\n"
   ]
  },
  {
   "cell_type": "code",
   "execution_count": 50,
   "metadata": {},
   "outputs": [
    {
     "name": "stdout",
     "output_type": "stream",
     "text": [
      "Model: \"model_17\"\n",
      "_________________________________________________________________\n",
      "Layer (type)                 Output Shape              Param #   \n",
      "=================================================================\n",
      "input_18 (InputLayer)        [(None, 253, 1)]          0         \n",
      "_________________________________________________________________\n",
      "resnet_block_51 (ResnetBlock (None, 253, 64)           34624     \n",
      "_________________________________________________________________\n",
      "resnet_block_52 (ResnetBlock (None, 253, 128)          207360    \n",
      "_________________________________________________________________\n",
      "resnet_block_53 (ResnetBlock (None, 253, 128)          281088    \n",
      "_________________________________________________________________\n",
      "global_average_pooling1d_17  (None, 128)               0         \n",
      "_________________________________________________________________\n",
      "dense_17 (Dense)             (None, 2)                 258       \n",
      "=================================================================\n",
      "Total params: 523,330\n",
      "Trainable params: 520,770\n",
      "Non-trainable params: 2,560\n",
      "_________________________________________________________________\n"
     ]
    }
   ],
   "source": [
    "m = build_model([253,1], 2, 64)\n",
    "m.summary()"
   ]
  },
  {
   "cell_type": "markdown",
   "metadata": {},
   "source": [
    "## Fit the model"
   ]
  },
  {
   "cell_type": "code",
   "execution_count": 51,
   "metadata": {},
   "outputs": [],
   "source": [
    "# input data must have an additional dimension and class must be a collection of one-hot vector rather than int\n",
    "train = tf.expand_dims(train.values,2)\n",
    "Class = keras.utils.to_categorical(Class.values)\n"
   ]
  },
  {
   "cell_type": "code",
   "execution_count": 88,
   "metadata": {},
   "outputs": [
    {
     "data": {
      "text/plain": [
       "array([[0., 1.],\n",
       "       [0., 1.],\n",
       "       [0., 1.],\n",
       "       [1., 0.],\n",
       "       [0., 1.]], dtype=float32)"
      ]
     },
     "execution_count": 88,
     "metadata": {},
     "output_type": "execute_result"
    }
   ],
   "source": [
    "Class[-5:]"
   ]
  },
  {
   "cell_type": "code",
   "execution_count": 66,
   "metadata": {},
   "outputs": [],
   "source": [
    "loss_memory =[]\n",
    "val_loss_memory =[]\n",
    "accuracy_memory=[]\n",
    "val_accuracy_memory=[]"
   ]
  },
  {
   "cell_type": "code",
   "execution_count": 65,
   "metadata": {},
   "outputs": [],
   "source": [
    "train0 = tf.random.shuffle(train, seed=5)\n",
    "Class0 = tf.random.shuffle(Class, seed=5)"
   ]
  },
  {
   "cell_type": "code",
   "execution_count": 72,
   "metadata": {},
   "outputs": [
    {
     "name": "stdout",
     "output_type": "stream",
     "text": [
      "Train on 7000 samples, validate on 3000 samples\n",
      "Epoch 1/20\n",
      "6976/7000 [============================>.] - ETA: 0s - loss: 0.0653 - accuracy: 0.9775INFO:tensorflow:Assets written to: best_model5/assets\n",
      "7000/7000 [==============================] - 22s 3ms/sample - loss: 0.0659 - accuracy: 0.9773 - val_loss: 12.7300 - val_accuracy: 0.5197\n",
      "Epoch 2/20\n",
      "7000/7000 [==============================] - 4s 621us/sample - loss: 0.0357 - accuracy: 0.9893 - val_loss: 13.7660 - val_accuracy: 0.5177\n",
      "Epoch 3/20\n",
      "6976/7000 [============================>.] - ETA: 0s - loss: 0.0110 - accuracy: 0.9974INFO:tensorflow:Assets written to: best_model5/assets\n",
      "7000/7000 [==============================] - 13s 2ms/sample - loss: 0.0110 - accuracy: 0.9974 - val_loss: 6.0190 - val_accuracy: 0.5500\n",
      "Epoch 4/20\n",
      "6976/7000 [============================>.] - ETA: 0s - loss: 0.0076 - accuracy: 0.9984INFO:tensorflow:Assets written to: best_model5/assets\n",
      "7000/7000 [==============================] - 13s 2ms/sample - loss: 0.0075 - accuracy: 0.9984 - val_loss: 2.9962 - val_accuracy: 0.5767\n",
      "Epoch 5/20\n",
      "6976/7000 [============================>.] - ETA: 0s - loss: 0.0077 - accuracy: 0.9980INFO:tensorflow:Assets written to: best_model5/assets\n",
      "7000/7000 [==============================] - 13s 2ms/sample - loss: 0.0080 - accuracy: 0.9979 - val_loss: 2.6349 - val_accuracy: 0.5823\n",
      "Epoch 6/20\n",
      "7000/7000 [==============================] - 4s 618us/sample - loss: 0.0067 - accuracy: 0.9989 - val_loss: 2.6761 - val_accuracy: 0.5773\n",
      "Epoch 7/20\n",
      "7000/7000 [==============================] - 4s 618us/sample - loss: 0.0050 - accuracy: 0.9987 - val_loss: 2.8110 - val_accuracy: 0.5787\n",
      "Epoch 8/20\n",
      "7000/7000 [==============================] - 4s 615us/sample - loss: 0.0036 - accuracy: 0.9989 - val_loss: 2.7868 - val_accuracy: 0.5787\n",
      "Epoch 9/20\n",
      "7000/7000 [==============================] - 4s 615us/sample - loss: 0.0042 - accuracy: 0.9990 - val_loss: 2.8855 - val_accuracy: 0.5803\n",
      "Epoch 10/20\n",
      "7000/7000 [==============================] - 4s 619us/sample - loss: 0.0029 - accuracy: 0.9990 - val_loss: 2.7756 - val_accuracy: 0.5767\n",
      "Epoch 11/20\n",
      "7000/7000 [==============================] - 4s 619us/sample - loss: 0.0032 - accuracy: 0.9990 - val_loss: 2.7928 - val_accuracy: 0.5810\n",
      "Epoch 12/20\n",
      "7000/7000 [==============================] - 4s 615us/sample - loss: 0.0032 - accuracy: 0.9989 - val_loss: 2.9563 - val_accuracy: 0.5723\n",
      "Epoch 13/20\n",
      "7000/7000 [==============================] - 4s 616us/sample - loss: 0.0027 - accuracy: 0.9989 - val_loss: 2.9287 - val_accuracy: 0.5727\n",
      "Epoch 14/20\n",
      "7000/7000 [==============================] - 4s 618us/sample - loss: 0.0031 - accuracy: 0.9989 - val_loss: 2.7855 - val_accuracy: 0.5833\n",
      "Epoch 15/20\n",
      "7000/7000 [==============================] - 4s 617us/sample - loss: 0.0045 - accuracy: 0.9987 - val_loss: 3.0824 - val_accuracy: 0.5787\n",
      "Epoch 16/20\n",
      "7000/7000 [==============================] - 4s 618us/sample - loss: 0.0035 - accuracy: 0.9989 - val_loss: 2.9205 - val_accuracy: 0.5797\n",
      "Epoch 17/20\n",
      "7000/7000 [==============================] - 4s 616us/sample - loss: 0.0024 - accuracy: 0.9989 - val_loss: 2.7053 - val_accuracy: 0.5800\n",
      "Epoch 18/20\n",
      "7000/7000 [==============================] - 4s 618us/sample - loss: 0.0030 - accuracy: 0.9987 - val_loss: 2.7552 - val_accuracy: 0.5843\n",
      "Epoch 19/20\n",
      "7000/7000 [==============================] - 4s 615us/sample - loss: 0.0030 - accuracy: 0.9987 - val_loss: 3.1882 - val_accuracy: 0.5750\n",
      "Epoch 20/20\n",
      "7000/7000 [==============================] - 4s 617us/sample - loss: 0.0032 - accuracy: 0.9984 - val_loss: 3.0321 - val_accuracy: 0.5783\n",
      "total duration:  129.58116126060486\n"
     ]
    }
   ],
   "source": [
    "### Training parameters\n",
    "batch_size = 64\n",
    "nb_filters = 64\n",
    "nb_epochs = 20\n",
    "\n",
    "\n",
    "model = build_model([253,1], 2, nb_filters)\n",
    "model.load_weights('last_model5')\n",
    "\n",
    "reduce_lr = keras.callbacks.ReduceLROnPlateau(monitor='loss', factor=0.5, patience=50, min_lr=0.0001)\n",
    "model_checkpoint = keras.callbacks.ModelCheckpoint(filepath='best_model5', monitor='val_loss',\n",
    "                                                          save_best_only=True)\n",
    "callbacks = [reduce_lr, model_checkpoint]\n",
    "\n",
    "start_time = time.time()\n",
    "hist = model.fit(train0, Class0, batch_size=batch_size, epochs=nb_epochs,\n",
    "                              verbose=1, validation_split=0.3, callbacks=callbacks)\n",
    "duration = time.time() - start_time\n",
    "print('total duration: ', duration)\n",
    "\n",
    "loss_memory += hist.history['loss']\n",
    "val_loss_memory += hist.history['val_loss']\n",
    "accuracy_memory += hist.history['accuracy']\n",
    "val_accuracy_memory += hist.history['val_accuracy']\n",
    "model.save_weights('last_model5', save_format='tf')\n",
    "\n"
   ]
  },
  {
   "cell_type": "code",
   "execution_count": 73,
   "metadata": {},
   "outputs": [
    {
     "data": {
      "image/png": "[encoded data removed]",
      "text/plain": [
       "<Figure size 432x288 with 1 Axes>"
      ]
     },
     "metadata": {
      "needs_background": "light"
     },
     "output_type": "display_data"
    }
   ],
   "source": [
    "plt.plot(loss_memory)\n",
    "plt.plot(val_loss_memory)\n",
    "plt.legend(['loss','val_loss'], loc='upper right');\n",
    "plt.title('Learning curves')\n",
    "plt.xlabel('epochs')\n",
    "plt.show()"
   ]
  },
  {
   "cell_type": "code",
   "execution_count": 74,
   "metadata": {},
   "outputs": [
    {
     "data": {
      "image/png": "[encoded data removed]",
      "text/plain": [
       "<Figure size 432x288 with 1 Axes>"
      ]
     },
     "metadata": {
      "needs_background": "light"
     },
     "output_type": "display_data"
    }
   ],
   "source": [
    "plt.plot(accuracy_memory)\n",
    "plt.plot(val_accuracy_memory)\n",
    "plt.legend(['accuracy','val_accuracy'], loc='upper right');\n",
    "plt.title('Accuracy evolution')\n",
    "plt.xlabel('epochs')\n",
    "plt.show()"
   ]
  },
  {
   "cell_type": "markdown",
   "metadata": {},
   "source": [
    "Model fitting is efficient as the loss decreases. There is no overfitting because the validation loss is globaly constant or decreasing slightly. Even if the cross-entropy loss of the validation set is high the accuracy is increasing above 0.55 so the model has a capacity of generalization for classification.\n",
    "\n",
    "I've run different experiments to choose hyperparameters. Increasing the number of filters of each convolution layer or adding an extra ResNet block makes training longer but does not improve the validation accuracy. The model is already sufficiently complex. However deleting the last layer or reducing the number of filters does leads to worse validation results. So this model have the good number of parameters, that must be why this is exactly the model used in the article \"Deep learning for time series classification: a review\"."
   ]
  },
  {
   "cell_type": "markdown",
   "metadata": {},
   "source": [
    "## Final Model and predictions on test\n",
    "\n",
    "The article \"Deep Neural Network Ensembles for Time Series Classification\" shows that an ensemble of models with random initialization is often better than a single model for time series classification. This is due to the high variance of neural networks. As the training is fast it is worth to train several models on the whole dataset and to use this ensemble of models for the final classifier. Experimenting with a validation set shows that an ensemble method improve accuracy by about 5%.\n",
    "\n",
    "The prediction is chosen from the ensemble of models with a majority vote."
   ]
  },
  {
   "cell_type": "code",
   "execution_count": 75,
   "metadata": {},
   "outputs": [],
   "source": [
    "model = build_model([253,1], 2, nb_filters)\n",
    "test = pd.read_csv(\"TestMyriad.csv\")\n",
    "test = tf.expand_dims(test.values,2)"
   ]
  },
  {
   "cell_type": "code",
   "execution_count": 89,
   "metadata": {},
   "outputs": [],
   "source": [
    "test_prediction = {}\n",
    "for i in range(1,6): \n",
    "    model.load_weights('best_model' + str(i) + '/variables/variables')\n",
    "    test_prediction[i] = model.predict(test)\n",
    "\n",
    "\n",
    "nb_votes = np.argmax(test_prediction[1], 1)\n",
    "for i in range(2,6):\n",
    "    nb_votes += np.argmax(test_prediction[i], 1)\n",
    "\n",
    "# Final prediction is chosen according to the majority\n",
    "final_pred = (nb_votes >= 3).astype(int)\n",
    "\n",
    "# Final probability is the averaged probability\n",
    "real_probs = test_prediction[1][:,1]\n",
    "for i in range(2,6):\n",
    "    real_probs += test_prediction[i][:,1]\n",
    "real_probs = real_probs/5"
   ]
  },
  {
   "cell_type": "code",
   "execution_count": 91,
   "metadata": {},
   "outputs": [],
   "source": [
    "res = pd.DataFrame(real_probs, columns=['Class'])"
   ]
  },
  {
   "cell_type": "code",
   "execution_count": 94,
   "metadata": {},
   "outputs": [],
   "source": [
    "res.to_csv('Probabilities_predicted.csv', index=False)"
   ]
  }
 ],
 "metadata": {
  "kernelspec": {
   "display_name": "Python 3",
   "language": "python",
   "name": "python3"
  },
  "language_info": {
   "codemirror_mode": {
    "name": "ipython",
    "version": 3
   },
   "file_extension": ".py",
   "mimetype": "text/x-python",
   "name": "python",
   "nbconvert_exporter": "python",
   "pygments_lexer": "ipython3",
   "version": "3.7.4"
  }
 },
 "nbformat": 4,
 "nbformat_minor": 4
}
